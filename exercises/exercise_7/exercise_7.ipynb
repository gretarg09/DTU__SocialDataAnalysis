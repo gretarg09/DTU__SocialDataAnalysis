{
 "cells": [
  {
   "cell_type": "markdown",
   "metadata": {},
   "source": [
    "# Week 7"
   ]
  },
  {
   "cell_type": "markdown",
   "metadata": {},
   "source": [
    "# Data for scatterplot"
   ]
  },
  {
   "cell_type": "code",
   "execution_count": 2,
   "metadata": {
    "collapsed": true
   },
   "outputs": [],
   "source": [
    "# lets start by getting the data\n",
    "import csv\n",
    "import math\n",
    "import matplotlib.pyplot as plt\n",
    "from collections import defaultdict\n",
    "from collections import Counter\n",
    "\n",
    "data = []\n",
    "\n",
    "def process(IncidntNum,Category,Descript,DayOfWeek,Data,Time,PdDistrict,Resolution,Address,X,Y,Location,PdId):\n",
    "    data.append({\n",
    "            \"IncidntNum\":IncidntNum,\n",
    "            \"Category\":Category,\n",
    "            \"Descript\":Descript,\n",
    "            \"DayOfWeek\":DayOfWeek,\n",
    "            \"Date\":Date,\n",
    "            \"Time\":Time,\n",
    "            \"PdDistrict\":PdDistrict,\n",
    "            \"Resolution\":Resolution,\n",
    "            \"Address\":Address,\n",
    "            \"X\":X,\n",
    "            \"Y\":Y,\n",
    "            \"Location\":Location,\n",
    "            \"PdId\":PdId})\n",
    "\n",
    "with open(\"SFPD_Incidents_-_from_1_January_2003.csv\", \"rb\") as csvfile:\n",
    "    reader = csv.DictReader(csvfile,delimiter=\",\")\n",
    "    for row in reader:\n",
    "        IncidntNum = row[\"IncidntNum\"]\n",
    "        Category = row[\"Category\"]\n",
    "        Descript = row[\"Descript\"]\n",
    "        DayOfWeek = row[\"DayOfWeek\"]\n",
    "        Date = row[\"Date\"]\n",
    "        Time = row[\"Time\"]\n",
    "        PdDistrict = row[\"PdDistrict\"]\n",
    "        Resolution = row[\"Resolution\"]\n",
    "        Address = row[\"Address\"]\n",
    "        X = row[\"X\"]\n",
    "        Y = row[\"Y\"]\n",
    "        Location = row[\"Location\"]\n",
    "        PdId = row[\"PdId\"]\n",
    "        process(IncidntNum,Category,Descript,DayOfWeek,Date,Time,PdDistrict,Resolution,Address,X,Y,Location,PdId)"
   ]
  },
  {
   "cell_type": "code",
   "execution_count": 75,
   "metadata": {
    "collapsed": false
   },
   "outputs": [],
   "source": [
    "def get_data_from_district(district_data, name):\n",
    "    nr_of_prostitution = len([line for line in district_data if line == \"PROSTITUTION\"])\n",
    "    nr_of_vehicle_theft = len([line for line in district_data if line == \"VEHICLE THEFT\"])\n",
    "    total_nr_of_crime = len(district_data)\n",
    "    return {\"District\":name, \"total\":total_nr_of_crime, \"vehicle\":nr_of_vehicle_theft, \"prostitution\":nr_of_prostitution}\n",
    "\n",
    "pdDistrict = set([line[\"PdDistrict\"] for line in data])\n",
    "    \n",
    "data_parsed = {\n",
    "    \"Period2003\":[],\n",
    "    \"Period2015\":[]\n",
    "}\n",
    "\n",
    "data_from_2015 = [{\"Category\":line[\"Category\"], \"PdDistrict\":line[\"PdDistrict\"]} for line in data if int(line[\"Date\"].split(\"/\")[-1]) == 2015]\n",
    "nr_of_crimes_2015 = len(data_from_2015)\n",
    "\n",
    "data_from_2003 = [{\"Category\":line[\"Category\"], \"PdDistrict\":line[\"PdDistrict\"]} for line in data if int(line[\"Date\"].split(\"/\")[-1]) == 2003]\n",
    "nr_of_crimes_2003 = len(data_from_2003)\n",
    " \n",
    "for district in pdDistrict:\n",
    "    data_for_district_2015 = [line[\"Category\"] for line in data_from_2015 if line[\"PdDistrict\"] == district]\n",
    "    data_parsed[\"Period2015\"].append(get_data_from_district(data_for_district_2015,district))\n",
    "    data_for_district_2003 = [line[\"Category\"] for line in data_from_2003 if line[\"PdDistrict\"] == district]\n",
    "    data_parsed[\"Period2003\"].append(get_data_from_district(data_for_district_2003,district))\n",
    "    \n",
    "\n",
    "    \n",
    "    "
   ]
  },
  {
   "cell_type": "code",
   "execution_count": 80,
   "metadata": {
    "collapsed": false
   },
   "outputs": [],
   "source": [
    "import json\n",
    "with open('data1.json', 'w') as fp:\n",
    "    json.dump(data_parsed, fp)"
   ]
  },
  {
   "cell_type": "code",
   "execution_count": 74,
   "metadata": {
    "collapsed": false
   },
   "outputs": [
    {
     "data": {
      "text/plain": [
       "[{'District': '', 'prostitution': 0, 'total': 0, 'vehicle': 0},\n",
       " {'District': 'CENTRAL', 'prostitution': 44, 'total': 18565, 'vehicle': 552},\n",
       " {'District': 'NORTHERN', 'prostitution': 42, 'total': 20092, 'vehicle': 945},\n",
       " {'District': 'SOUTHERN', 'prostitution': 96, 'total': 30095, 'vehicle': 795},\n",
       " {'District': 'PARK', 'prostitution': 1, 'total': 9341, 'vehicle': 640},\n",
       " {'District': 'MISSION', 'prostitution': 66, 'total': 18542, 'vehicle': 1198},\n",
       " {'District': 'TENDERLOIN',\n",
       "  'prostitution': 23,\n",
       "  'total': 10735,\n",
       "  'vehicle': 113},\n",
       " {'District': 'RICHMOND', 'prostitution': 9, 'total': 9082, 'vehicle': 561},\n",
       " {'District': 'TARAVAL', 'prostitution': 81, 'total': 11966, 'vehicle': 789},\n",
       " {'District': 'INGLESIDE', 'prostitution': 5, 'total': 13414, 'vehicle': 1368},\n",
       " {'District': 'BAYVIEW', 'prostitution': 7, 'total': 14711, 'vehicle': 985}]"
      ]
     },
     "execution_count": 74,
     "metadata": {},
     "output_type": "execute_result"
    }
   ],
   "source": [
    "data_parsed[\"Period2015\"]"
   ]
  },
  {
   "cell_type": "code",
   "execution_count": 90,
   "metadata": {
    "collapsed": false
   },
   "outputs": [
    {
     "data": {
      "text/plain": [
       "{'Period2003': [{'District': '', 'prostitution': 0, 'total': 0, 'vehicle': 0},\n",
       "  {'District': 'CENTRAL', 'prostitution': 70, 'total': 13622, 'vehicle': 1193},\n",
       "  {'District': 'NORTHERN',\n",
       "   'prostitution': 581,\n",
       "   'total': 18975,\n",
       "   'vehicle': 1879},\n",
       "  {'District': 'SOUTHERN',\n",
       "   'prostitution': 18,\n",
       "   'total': 25692,\n",
       "   'vehicle': 1426},\n",
       "  {'District': 'PARK', 'prostitution': 2, 'total': 8219, 'vehicle': 1207},\n",
       "  {'District': 'MISSION',\n",
       "   'prostitution': 713,\n",
       "   'total': 21163,\n",
       "   'vehicle': 2063},\n",
       "  {'District': 'TENDERLOIN',\n",
       "   'prostitution': 527,\n",
       "   'total': 12737,\n",
       "   'vehicle': 371},\n",
       "  {'District': 'RICHMOND', 'prostitution': 15, 'total': 7692, 'vehicle': 1081},\n",
       "  {'District': 'TARAVAL', 'prostitution': 10, 'total': 11329, 'vehicle': 1665},\n",
       "  {'District': 'INGLESIDE',\n",
       "   'prostitution': 5,\n",
       "   'total': 14008,\n",
       "   'vehicle': 2319},\n",
       "  {'District': 'BAYVIEW',\n",
       "   'prostitution': 11,\n",
       "   'total': 15739,\n",
       "   'vehicle': 2121}],\n",
       " 'Period2015': [{'District': '', 'prostitution': 0, 'total': 0, 'vehicle': 0},\n",
       "  {'District': 'CENTRAL', 'prostitution': 44, 'total': 18565, 'vehicle': 552},\n",
       "  {'District': 'NORTHERN', 'prostitution': 42, 'total': 20092, 'vehicle': 945},\n",
       "  {'District': 'SOUTHERN', 'prostitution': 96, 'total': 30095, 'vehicle': 795},\n",
       "  {'District': 'PARK', 'prostitution': 1, 'total': 9341, 'vehicle': 640},\n",
       "  {'District': 'MISSION', 'prostitution': 66, 'total': 18542, 'vehicle': 1198},\n",
       "  {'District': 'TENDERLOIN',\n",
       "   'prostitution': 23,\n",
       "   'total': 10735,\n",
       "   'vehicle': 113},\n",
       "  {'District': 'RICHMOND', 'prostitution': 9, 'total': 9082, 'vehicle': 561},\n",
       "  {'District': 'TARAVAL', 'prostitution': 81, 'total': 11966, 'vehicle': 789},\n",
       "  {'District': 'INGLESIDE',\n",
       "   'prostitution': 5,\n",
       "   'total': 13414,\n",
       "   'vehicle': 1368},\n",
       "  {'District': 'BAYVIEW', 'prostitution': 7, 'total': 14711, 'vehicle': 985}]}"
      ]
     },
     "execution_count": 90,
     "metadata": {},
     "output_type": "execute_result"
    }
   ],
   "source": [
    "data_parsed"
   ]
  },
  {
   "cell_type": "code",
   "execution_count": 35,
   "metadata": {
    "collapsed": false
   },
   "outputs": [
    {
     "data": {
      "text/plain": [
       "11"
      ]
     },
     "execution_count": 35,
     "metadata": {},
     "output_type": "execute_result"
    }
   ],
   "source": [
    "len(set([line[\"PdDistrict\"] for line in data_from_2015]))"
   ]
  },
  {
   "cell_type": "code",
   "execution_count": 36,
   "metadata": {
    "collapsed": false
   },
   "outputs": [
    {
     "data": {
      "text/plain": [
       "11"
      ]
     },
     "execution_count": 36,
     "metadata": {},
     "output_type": "execute_result"
    }
   ],
   "source": [
    "len(pdDistrict)"
   ]
  },
  {
   "cell_type": "code",
   "execution_count": 79,
   "metadata": {
    "collapsed": false
   },
   "outputs": [
    {
     "data": {
      "text/plain": [
       "713"
      ]
     },
     "execution_count": 79,
     "metadata": {},
     "output_type": "execute_result"
    }
   ],
   "source": [
    "len([line for line in data if \n",
    "                int(line[\"Date\"].split(\"/\")[-1]) == 2003 and\n",
    "                line[\"Category\"] == \"PROSTITUTION\" and\n",
    "                line[\"PdDistrict\"] == 'MISSION'])"
   ]
  },
  {
   "cell_type": "markdown",
   "metadata": {},
   "source": [
    "# Data for histogram"
   ]
  },
  {
   "cell_type": "code",
   "execution_count": 8,
   "metadata": {
    "collapsed": false
   },
   "outputs": [
    {
     "name": "stdout",
     "output_type": "stream",
     "text": [
      "The number of categories is:  39\n",
      "The most commonly occurring category:  [('LARCENY/THEFT', 422170)]\n",
      "The least commonly occuring category:  ('TREA', 13)\n"
     ]
    }
   ],
   "source": [
    "categories = set([line[\"Category\"] for line in data])\n",
    "print \"The number of categories is: \",len(categories) \n",
    "categories_count = Counter([line[\"Category\"] for line in data])\n",
    "print \"The most commonly occurring category: \", categories_count.most_common(1)\n",
    "print \"The least commonly occuring category: \", categories_count.most_common()[-1]\n",
    "\n",
    "categories_count_sorted = sorted(categories_count.items(), key=lambda i: i[1])\n",
    "\n",
    "data_2 = {\n",
    "    \"categories\":[],\n",
    "    \"perhour\":[]\n",
    "}\n",
    "\n",
    "for key,value in categories_count_sorted:\n",
    "    data_2[\"categories\"].append({\"key\":key, \"value\":value})\n",
    "\n",
    "numberOfCrimes_perHour =  Counter([int(line[\"Time\"].split(\":\")[0]) for line in data]).items()\n",
    "\n",
    "for key,value in numberOfCrimes_perHour:\n",
    "    data_2[\"perhour\"].append({\"key\":key, \"value\":value})\n",
    "    \n",
    "    \n"
   ]
  },
  {
   "cell_type": "code",
   "execution_count": 10,
   "metadata": {
    "collapsed": false
   },
   "outputs": [],
   "source": [
    "import json\n",
    "with open('data2.json', 'w') as fp:\n",
    "    json.dump(data_2, fp)"
   ]
  },
  {
   "cell_type": "code",
   "execution_count": 9,
   "metadata": {
    "collapsed": false
   },
   "outputs": [
    {
     "data": {
      "text/plain": [
       "{'categories': [{'key': 'TREA', 'value': 13},\n",
       "  {'key': 'PORNOGRAPHY/OBSCENE MAT', 'value': 50},\n",
       "  {'key': 'GAMBLING', 'value': 326},\n",
       "  {'key': 'SEX OFFENSES, NON FORCIBLE', 'value': 376},\n",
       "  {'key': 'EXTORTION', 'value': 669},\n",
       "  {'key': 'BRIBERY', 'value': 732},\n",
       "  {'key': 'BAD CHECKS', 'value': 891},\n",
       "  {'key': 'FAMILY OFFENSES', 'value': 1128},\n",
       "  {'key': 'SUICIDE', 'value': 1197},\n",
       "  {'key': 'LOITERING', 'value': 2382},\n",
       "  {'key': 'EMBEZZLEMENT', 'value': 2748},\n",
       "  {'key': 'ARSON', 'value': 3524},\n",
       "  {'key': 'LIQUOR LAWS', 'value': 3996},\n",
       "  {'key': 'RUNAWAY', 'value': 4113},\n",
       "  {'key': 'KIDNAPPING', 'value': 5076},\n",
       "  {'key': 'DRIVING UNDER THE INFLUENCE', 'value': 5302},\n",
       "  {'key': 'RECOVERED VEHICLE', 'value': 8052},\n",
       "  {'key': 'DRUNKENNESS', 'value': 9432},\n",
       "  {'key': 'DISORDERLY CONDUCT', 'value': 9573},\n",
       "  {'key': 'SEX OFFENSES, FORCIBLE', 'value': 10399},\n",
       "  {'key': 'STOLEN PROPERTY', 'value': 10890},\n",
       "  {'key': 'PROSTITUTION', 'value': 16163},\n",
       "  {'key': 'TRESPASS', 'value': 17468},\n",
       "  {'key': 'WEAPON LAWS', 'value': 20065},\n",
       "  {'key': 'FORGERY/COUNTERFEITING', 'value': 22353},\n",
       "  {'key': 'SECONDARY CODES', 'value': 23259},\n",
       "  {'key': 'FRAUD', 'value': 38306},\n",
       "  {'key': 'ROBBERY', 'value': 51672},\n",
       "  {'key': 'MISSING PERSON', 'value': 59458},\n",
       "  {'key': 'SUSPICIOUS OCC', 'value': 72996},\n",
       "  {'key': 'BURGLARY', 'value': 84017},\n",
       "  {'key': 'WARRANTS', 'value': 94956},\n",
       "  {'key': 'VANDALISM', 'value': 104251},\n",
       "  {'key': 'DRUG/NARCOTIC', 'value': 115131},\n",
       "  {'key': 'VEHICLE THEFT', 'value': 119824},\n",
       "  {'key': 'ASSAULT', 'value': 177407},\n",
       "  {'key': 'NON-CRIMINAL', 'value': 216773},\n",
       "  {'key': 'OTHER OFFENSES', 'value': 286727},\n",
       "  {'key': 'LARCENY/THEFT', 'value': 422170}],\n",
       " 'perhour': [{'key': 0, 'value': 103719},\n",
       "  {'key': 1, 'value': 60049},\n",
       "  {'key': 2, 'value': 50352},\n",
       "  {'key': 3, 'value': 32404},\n",
       "  {'key': 4, 'value': 22894},\n",
       "  {'key': 5, 'value': 20339},\n",
       "  {'key': 6, 'value': 30587},\n",
       "  {'key': 7, 'value': 51007},\n",
       "  {'key': 8, 'value': 75672},\n",
       "  {'key': 9, 'value': 81771},\n",
       "  {'key': 10, 'value': 86931},\n",
       "  {'key': 11, 'value': 88618},\n",
       "  {'key': 12, 'value': 120631},\n",
       "  {'key': 13, 'value': 99044},\n",
       "  {'key': 14, 'value': 102423},\n",
       "  {'key': 15, 'value': 109948},\n",
       "  {'key': 16, 'value': 114815},\n",
       "  {'key': 17, 'value': 123971},\n",
       "  {'key': 18, 'value': 128199},\n",
       "  {'key': 19, 'value': 114542},\n",
       "  {'key': 20, 'value': 104345},\n",
       "  {'key': 21, 'value': 100098},\n",
       "  {'key': 22, 'value': 104650},\n",
       "  {'key': 23, 'value': 96856}]}"
      ]
     },
     "execution_count": 9,
     "metadata": {},
     "output_type": "execute_result"
    }
   ],
   "source": [
    "data_2"
   ]
  },
  {
   "cell_type": "code",
   "execution_count": null,
   "metadata": {
    "collapsed": true
   },
   "outputs": [],
   "source": []
  }
 ],
 "metadata": {
  "anaconda-cloud": {},
  "kernelspec": {
   "display_name": "Python [conda root]",
   "language": "python",
   "name": "conda-root-py"
  },
  "language_info": {
   "codemirror_mode": {
    "name": "ipython",
    "version": 2
   },
   "file_extension": ".py",
   "mimetype": "text/x-python",
   "name": "python",
   "nbconvert_exporter": "python",
   "pygments_lexer": "ipython2",
   "version": "2.7.12"
  }
 },
 "nbformat": 4,
 "nbformat_minor": 1
}
